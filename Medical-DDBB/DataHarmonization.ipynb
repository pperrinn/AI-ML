{
  "nbformat": 4,
  "nbformat_minor": 0,
  "metadata": {
    "colab": {
      "provenance": [],
      "collapsed_sections": [
        "d6SYF8n9PepQ",
        "tDC0VxUQQDSR",
        "tugX9R6jQPBD",
        "y55osBblQxhg",
        "HzrDacR_Q3uV",
        "eDksxirFZsjk",
        "dErWzPeFWzyD"
      ]
    },
    "kernelspec": {
      "name": "python3",
      "display_name": "Python 3"
    },
    "language_info": {
      "name": "python"
    }
  },
  "cells": [
    {
      "cell_type": "markdown",
      "source": [
        "# 1. Crear el entorno de trabajo"
      ],
      "metadata": {
        "id": "d6SYF8n9PepQ"
      }
    },
    {
      "cell_type": "code",
      "execution_count": null,
      "metadata": {
        "colab": {
          "base_uri": "https://localhost:8080/"
        },
        "id": "cGq2MugIPeJn",
        "outputId": "8403185e-0fd5-4f94-9e3c-72334a79fb6c"
      },
      "outputs": [
        {
          "output_type": "stream",
          "name": "stdout",
          "text": [
            "Mounted at /gdrive\n"
          ]
        }
      ],
      "source": [
        "import numpy as np                                 # operaciones aritméticas, vectoriales y matriciales\n",
        "import pandas as pd                                # visualización de datasets, relaciones, resultados, etc.\n",
        "import matplotlib.pyplot as plt                    # visualización de gráficas y resultados\n",
        "import re                                          # patrones\n",
        "from google.colab import drive                     # importar archivos a Google Colab\n",
        "drive.mount('/gdrive', force_remount=True)"
      ]
    },
    {
      "cell_type": "markdown",
      "source": [
        "# 2. Carga de datos"
      ],
      "metadata": {
        "id": "tDC0VxUQQDSR"
      }
    },
    {
      "cell_type": "code",
      "source": [
        "FILE_NAME = \"/gdrive/My Drive/Colab Notebooks/BBDD II/prac1/ejemplo-datos.csv\"\n",
        "df = pd.read_csv(FILE_NAME, sep=\";\", decimal=',', encoding= 'unicode_escape')\n",
        "dataset = df.copy()                                 # trabajamos con una copia del dataset\n",
        "dataset.info()"
      ],
      "metadata": {
        "colab": {
          "base_uri": "https://localhost:8080/"
        },
        "id": "IsX-Lc0EQEro",
        "outputId": "98036ee2-66bd-482d-be96-9d2bee6cd46e"
      },
      "execution_count": null,
      "outputs": [
        {
          "output_type": "stream",
          "name": "stdout",
          "text": [
            "<class 'pandas.core.frame.DataFrame'>\n",
            "RangeIndex: 68 entries, 0 to 67\n",
            "Data columns (total 25 columns):\n",
            " #   Column                                    Non-Null Count  Dtype  \n",
            "---  ------                                    --------------  -----  \n",
            " 0   PATIENT ID                                1 non-null      float64\n",
            " 1   EDAD/AGE                                  68 non-null     int64  \n",
            " 2   SEXO/SEX                                  68 non-null     object \n",
            " 3   F_INGRESO/ADMISSION_D_ING/INPAT           68 non-null     object \n",
            " 4   UCI_DIAS/ICU_DAYS                         9 non-null      float64\n",
            " 5   F_ALTA/DISCHARGE_DATE_ING                 66 non-null     object \n",
            " 6   MOTIVO_ALTA/DESTINY_DISCHARGE_ING         66 non-null     object \n",
            " 7   F_INGRESO/ADMISSION_DATE_URG/EMERG        63 non-null     object \n",
            " 8   HORA/TIME_ADMISION/ADMISSION_URG/EMERG    63 non-null     object \n",
            " 9   ESPECIALIDAD/DEPARTMENT_URG/EMERG         63 non-null     object \n",
            " 10  DIAG_URG/EMERG                            63 non-null     object \n",
            " 11  DESTINO/DESTINY_URG/EMERG                 63 non-null     object \n",
            " 12  TEMP_PRIMERA/FIRST_URG/EMERG              68 non-null     float64\n",
            " 13  FC/HR_PRIMERA/FIRST_URG/EMERG             68 non-null     int64  \n",
            " 14  GLU_PRIMERA/FIRST_URG/EMERG               68 non-null     int64  \n",
            " 15  SAT_02_PRIMERA/FIRST_URG/EMERG            68 non-null     int64  \n",
            " 16  TA_MAX_PRIMERA/FIRST/EMERG_URG            68 non-null     int64  \n",
            " 17  TA_MIN_PRIMERA/FIRST_URG/EMERG            68 non-null     int64  \n",
            " 18  HORA/TIME_CONSTANT_ULTIMA/LAST_URG/EMERG  63 non-null     object \n",
            " 19  FC/HR_ULTIMA/LAST_URG/EMERG               68 non-null     int64  \n",
            " 20  TEMP_ULTIMA/LAST_URG/EMERG                68 non-null     float64\n",
            " 21  GLU_ULTIMA/LAST_URG/EMERG                 68 non-null     int64  \n",
            " 22  SAT_02_ULTIMA/LAST_URG/EMERG              68 non-null     int64  \n",
            " 23  TA_MAX_ULTIMA/LAST_URGEMERG               68 non-null     int64  \n",
            " 24  TA_MIN_ULTIMA/LAST_URG/EMERG              68 non-null     int64  \n",
            "dtypes: float64(4), int64(11), object(10)\n",
            "memory usage: 13.4+ KB\n"
          ]
        }
      ]
    },
    {
      "cell_type": "markdown",
      "source": [
        "# 3. Selección de variables de armonización"
      ],
      "metadata": {
        "id": "tugX9R6jQPBD"
      }
    },
    {
      "cell_type": "markdown",
      "source": [
        "## 3.1 Funciones para eliminar y/o renombrar variables"
      ],
      "metadata": {
        "id": "y55osBblQxhg"
      }
    },
    {
      "cell_type": "code",
      "source": [
        "# eliminar variables que no aparecen en el codebook\n",
        "def drop_variables(df, codebook):\n",
        "  for variable in list(df.columns):\n",
        "    if variable not in list(codebook.keys()):\n",
        "      df = df.drop(variable, axis=1)\n",
        "  return df"
      ],
      "metadata": {
        "id": "JdY7FlbdQTvp"
      },
      "execution_count": null,
      "outputs": []
    },
    {
      "cell_type": "code",
      "source": [
        "# función para renombrar las columnas\n",
        "def rename_df(df, codebook):\n",
        "  for initial_name, final_name in codebook.items():\n",
        "    df = df.rename(columns={initial_name: final_name})\n",
        "  return df"
      ],
      "metadata": {
        "id": "coFfMZK5QaOM"
      },
      "execution_count": null,
      "outputs": []
    },
    {
      "cell_type": "markdown",
      "source": [
        "## 3.2 Codebook del conjunto de datos"
      ],
      "metadata": {
        "id": "HzrDacR_Q3uV"
      }
    },
    {
      "cell_type": "code",
      "source": [
        "# codebook del conjunto de datos\n",
        "codebook = {\"EDAD/AGE\": \"DMRAGEYR\",\n",
        "            \"SEXO/SEX\": \"DMRGENDR\",\n",
        "            \"F_INGRESO/ADMISSION_D_ING/INPAT\": \"DATAD\",\n",
        "            \"UCI_DIAS/ICU_DAYS\": \"DATLGTI\",\n",
        "            \"F_ALTA/DISCHARGE_DATE_ING\": \"DATDS\",\n",
        "            \"MOTIVO_ALTA/DESTINY_DISCHARGE_ING\": \"DSXOS\",\n",
        "            \"TEMP_PRIMERA/FIRST_URG/EMERG\": \"CSXBTPA\",\n",
        "            \"FC/HR_PRIMERA/FIRST_URG/EMERG\": \"CSXCHRA\",\n",
        "            \"GLU_PRIMERA/FIRST_URG/EMERG\": \"LBXSGLA\",\n",
        "            \"SAT_02_PRIMERA/FIRST_URG/EMERG\": \"CSXOSTA\",\n",
        "            \"TA_MAX_PRIMERA/FIRST/EMERG_URG\": \"CSXSYA\",\n",
        "            \"TA_MIN_PRIMERA/FIRST_URG/EMERG\": \"CSXDIA\",\n",
        "            \"FC/HR_ULTIMA/LAST_URG/EMERG\": \"CSXCHRHn\",\n",
        "            \"TEMP_ULTIMA/LAST_URG/EMERG\": \"CSXBTPHn\",\n",
        "            \"GLU_ULTIMA/LAST_URG/EMERG\": \"LBXSGLHn\",\n",
        "            \"SAT_02_ULTIMA/LAST_URG/EMERG\": \"CSXOSTHn\",\n",
        "            \"TA_MAX_ULTIMA/LAST_URGEMERG\": \"CSXSYHn\",\n",
        "            \"TA_MIN_ULTIMA/LAST_URG/EMERG\": \"CSXDIHn\"}"
      ],
      "metadata": {
        "id": "owoAJg61QdY_"
      },
      "execution_count": null,
      "outputs": []
    },
    {
      "cell_type": "markdown",
      "source": [
        "## 3.3 Primeros pasos"
      ],
      "metadata": {
        "id": "eDksxirFZsjk"
      }
    },
    {
      "cell_type": "code",
      "source": [
        "# Eliminar variables duplicadas\n",
        "\n",
        "dataset.drop_duplicates(inplace=True)\n",
        "dataset.reset_index(drop=True, inplace=True)\n",
        "print(dataset.shape)"
      ],
      "metadata": {
        "colab": {
          "base_uri": "https://localhost:8080/"
        },
        "id": "cdSDudXiThec",
        "outputId": "2e836664-c66f-457c-d7bb-d72c0cee9ea4"
      },
      "execution_count": null,
      "outputs": [
        {
          "output_type": "stream",
          "name": "stdout",
          "text": [
            "(68, 25)\n"
          ]
        }
      ]
    },
    {
      "cell_type": "code",
      "source": [
        "# Eliminar variables que no hemos podido encontrar en el codebook\n",
        "\n",
        "dataset = drop_variables(dataset, codebook)\n",
        "print(dataset.shape)"
      ],
      "metadata": {
        "colab": {
          "base_uri": "https://localhost:8080/"
        },
        "id": "lNuWwzojTrOM",
        "outputId": "8c54f0f9-dbe5-44c9-d181-ce9671ed0af3"
      },
      "execution_count": null,
      "outputs": [
        {
          "output_type": "stream",
          "name": "stdout",
          "text": [
            "(68, 18)\n"
          ]
        }
      ]
    },
    {
      "cell_type": "code",
      "source": [
        "# Renombrar variables que sí hemos podido encontrar en el codebook\n",
        "\n",
        "dataset = rename_df(dataset, codebook)\n",
        "print(dataset.shape)"
      ],
      "metadata": {
        "colab": {
          "base_uri": "https://localhost:8080/"
        },
        "id": "fgKJn-FMTxqg",
        "outputId": "cc9db5ec-eb44-4c20-e6aa-98f525f4beea"
      },
      "execution_count": null,
      "outputs": [
        {
          "output_type": "stream",
          "name": "stdout",
          "text": [
            "(68, 18)\n"
          ]
        }
      ]
    },
    {
      "cell_type": "code",
      "source": [
        "dataset.head()"
      ],
      "metadata": {
        "colab": {
          "base_uri": "https://localhost:8080/",
          "height": 270
        },
        "id": "3AycxCb5T_3l",
        "outputId": "b6742ae4-323a-4824-8b0f-ddfdc7ab9e2d"
      },
      "execution_count": null,
      "outputs": [
        {
          "output_type": "execute_result",
          "data": {
            "text/plain": [
              "   DMRAGEYR DMRGENDR       DATAD  DATLGTI       DATDS      DSXOS  CSXBTPA  \\\n",
              "0        73   FEMALE  06/03/2020      NaN  16/04/2019  Domicilio     35.5   \n",
              "1        73     MALE  06/03/2020      3.0  16/04/2019  Domicilio     38.4   \n",
              "2        21     MALE  06/03/2020      NaN  16/04/2019  Domicilio     39.2   \n",
              "3        51   FEMALE  07/03/2020      NaN  17/04/2019  Domicilio     37.9   \n",
              "4        61     MALE  07/03/2020      NaN  31/04/2019  Domicilio     36.9   \n",
              "\n",
              "   CSXCHRA  LBXSGLA  CSXOSTA  CSXSYA  CSXDIA  CSXCHRHn   CSXBTPHn  LBXSGLHn  \\\n",
              "0       67        0       92     103      61        67  35.500000         0   \n",
              "1      100        0       97     140      65       100  38.400002         0   \n",
              "2      113        0       97       0       0       113  39.200001         0   \n",
              "3       76        0        0     109      60        76  37.900002         0   \n",
              "4      105        0       93       0       0       105  36.900002         0   \n",
              "\n",
              "   CSXOSTHn  CSXSYHn  CSXDIHn  \n",
              "0        92      103       61  \n",
              "1        97        0        0  \n",
              "2        97        0        0  \n",
              "3         0      109       60  \n",
              "4        93        0        0  "
            ],
            "text/html": [
              "\n",
              "  <div id=\"df-6e196ca4-9170-4ade-a66a-5ca2c7054004\">\n",
              "    <div class=\"colab-df-container\">\n",
              "      <div>\n",
              "<style scoped>\n",
              "    .dataframe tbody tr th:only-of-type {\n",
              "        vertical-align: middle;\n",
              "    }\n",
              "\n",
              "    .dataframe tbody tr th {\n",
              "        vertical-align: top;\n",
              "    }\n",
              "\n",
              "    .dataframe thead th {\n",
              "        text-align: right;\n",
              "    }\n",
              "</style>\n",
              "<table border=\"1\" class=\"dataframe\">\n",
              "  <thead>\n",
              "    <tr style=\"text-align: right;\">\n",
              "      <th></th>\n",
              "      <th>DMRAGEYR</th>\n",
              "      <th>DMRGENDR</th>\n",
              "      <th>DATAD</th>\n",
              "      <th>DATLGTI</th>\n",
              "      <th>DATDS</th>\n",
              "      <th>DSXOS</th>\n",
              "      <th>CSXBTPA</th>\n",
              "      <th>CSXCHRA</th>\n",
              "      <th>LBXSGLA</th>\n",
              "      <th>CSXOSTA</th>\n",
              "      <th>CSXSYA</th>\n",
              "      <th>CSXDIA</th>\n",
              "      <th>CSXCHRHn</th>\n",
              "      <th>CSXBTPHn</th>\n",
              "      <th>LBXSGLHn</th>\n",
              "      <th>CSXOSTHn</th>\n",
              "      <th>CSXSYHn</th>\n",
              "      <th>CSXDIHn</th>\n",
              "    </tr>\n",
              "  </thead>\n",
              "  <tbody>\n",
              "    <tr>\n",
              "      <th>0</th>\n",
              "      <td>73</td>\n",
              "      <td>FEMALE</td>\n",
              "      <td>06/03/2020</td>\n",
              "      <td>NaN</td>\n",
              "      <td>16/04/2019</td>\n",
              "      <td>Domicilio</td>\n",
              "      <td>35.5</td>\n",
              "      <td>67</td>\n",
              "      <td>0</td>\n",
              "      <td>92</td>\n",
              "      <td>103</td>\n",
              "      <td>61</td>\n",
              "      <td>67</td>\n",
              "      <td>35.500000</td>\n",
              "      <td>0</td>\n",
              "      <td>92</td>\n",
              "      <td>103</td>\n",
              "      <td>61</td>\n",
              "    </tr>\n",
              "    <tr>\n",
              "      <th>1</th>\n",
              "      <td>73</td>\n",
              "      <td>MALE</td>\n",
              "      <td>06/03/2020</td>\n",
              "      <td>3.0</td>\n",
              "      <td>16/04/2019</td>\n",
              "      <td>Domicilio</td>\n",
              "      <td>38.4</td>\n",
              "      <td>100</td>\n",
              "      <td>0</td>\n",
              "      <td>97</td>\n",
              "      <td>140</td>\n",
              "      <td>65</td>\n",
              "      <td>100</td>\n",
              "      <td>38.400002</td>\n",
              "      <td>0</td>\n",
              "      <td>97</td>\n",
              "      <td>0</td>\n",
              "      <td>0</td>\n",
              "    </tr>\n",
              "    <tr>\n",
              "      <th>2</th>\n",
              "      <td>21</td>\n",
              "      <td>MALE</td>\n",
              "      <td>06/03/2020</td>\n",
              "      <td>NaN</td>\n",
              "      <td>16/04/2019</td>\n",
              "      <td>Domicilio</td>\n",
              "      <td>39.2</td>\n",
              "      <td>113</td>\n",
              "      <td>0</td>\n",
              "      <td>97</td>\n",
              "      <td>0</td>\n",
              "      <td>0</td>\n",
              "      <td>113</td>\n",
              "      <td>39.200001</td>\n",
              "      <td>0</td>\n",
              "      <td>97</td>\n",
              "      <td>0</td>\n",
              "      <td>0</td>\n",
              "    </tr>\n",
              "    <tr>\n",
              "      <th>3</th>\n",
              "      <td>51</td>\n",
              "      <td>FEMALE</td>\n",
              "      <td>07/03/2020</td>\n",
              "      <td>NaN</td>\n",
              "      <td>17/04/2019</td>\n",
              "      <td>Domicilio</td>\n",
              "      <td>37.9</td>\n",
              "      <td>76</td>\n",
              "      <td>0</td>\n",
              "      <td>0</td>\n",
              "      <td>109</td>\n",
              "      <td>60</td>\n",
              "      <td>76</td>\n",
              "      <td>37.900002</td>\n",
              "      <td>0</td>\n",
              "      <td>0</td>\n",
              "      <td>109</td>\n",
              "      <td>60</td>\n",
              "    </tr>\n",
              "    <tr>\n",
              "      <th>4</th>\n",
              "      <td>61</td>\n",
              "      <td>MALE</td>\n",
              "      <td>07/03/2020</td>\n",
              "      <td>NaN</td>\n",
              "      <td>31/04/2019</td>\n",
              "      <td>Domicilio</td>\n",
              "      <td>36.9</td>\n",
              "      <td>105</td>\n",
              "      <td>0</td>\n",
              "      <td>93</td>\n",
              "      <td>0</td>\n",
              "      <td>0</td>\n",
              "      <td>105</td>\n",
              "      <td>36.900002</td>\n",
              "      <td>0</td>\n",
              "      <td>93</td>\n",
              "      <td>0</td>\n",
              "      <td>0</td>\n",
              "    </tr>\n",
              "  </tbody>\n",
              "</table>\n",
              "</div>\n",
              "      <button class=\"colab-df-convert\" onclick=\"convertToInteractive('df-6e196ca4-9170-4ade-a66a-5ca2c7054004')\"\n",
              "              title=\"Convert this dataframe to an interactive table.\"\n",
              "              style=\"display:none;\">\n",
              "        \n",
              "  <svg xmlns=\"http://www.w3.org/2000/svg\" height=\"24px\"viewBox=\"0 0 24 24\"\n",
              "       width=\"24px\">\n",
              "    <path d=\"M0 0h24v24H0V0z\" fill=\"none\"/>\n",
              "    <path d=\"M18.56 5.44l.94 2.06.94-2.06 2.06-.94-2.06-.94-.94-2.06-.94 2.06-2.06.94zm-11 1L8.5 8.5l.94-2.06 2.06-.94-2.06-.94L8.5 2.5l-.94 2.06-2.06.94zm10 10l.94 2.06.94-2.06 2.06-.94-2.06-.94-.94-2.06-.94 2.06-2.06.94z\"/><path d=\"M17.41 7.96l-1.37-1.37c-.4-.4-.92-.59-1.43-.59-.52 0-1.04.2-1.43.59L10.3 9.45l-7.72 7.72c-.78.78-.78 2.05 0 2.83L4 21.41c.39.39.9.59 1.41.59.51 0 1.02-.2 1.41-.59l7.78-7.78 2.81-2.81c.8-.78.8-2.07 0-2.86zM5.41 20L4 18.59l7.72-7.72 1.47 1.35L5.41 20z\"/>\n",
              "  </svg>\n",
              "      </button>\n",
              "      \n",
              "  <style>\n",
              "    .colab-df-container {\n",
              "      display:flex;\n",
              "      flex-wrap:wrap;\n",
              "      gap: 12px;\n",
              "    }\n",
              "\n",
              "    .colab-df-convert {\n",
              "      background-color: #E8F0FE;\n",
              "      border: none;\n",
              "      border-radius: 50%;\n",
              "      cursor: pointer;\n",
              "      display: none;\n",
              "      fill: #1967D2;\n",
              "      height: 32px;\n",
              "      padding: 0 0 0 0;\n",
              "      width: 32px;\n",
              "    }\n",
              "\n",
              "    .colab-df-convert:hover {\n",
              "      background-color: #E2EBFA;\n",
              "      box-shadow: 0px 1px 2px rgba(60, 64, 67, 0.3), 0px 1px 3px 1px rgba(60, 64, 67, 0.15);\n",
              "      fill: #174EA6;\n",
              "    }\n",
              "\n",
              "    [theme=dark] .colab-df-convert {\n",
              "      background-color: #3B4455;\n",
              "      fill: #D2E3FC;\n",
              "    }\n",
              "\n",
              "    [theme=dark] .colab-df-convert:hover {\n",
              "      background-color: #434B5C;\n",
              "      box-shadow: 0px 1px 3px 1px rgba(0, 0, 0, 0.15);\n",
              "      filter: drop-shadow(0px 1px 2px rgba(0, 0, 0, 0.3));\n",
              "      fill: #FFFFFF;\n",
              "    }\n",
              "  </style>\n",
              "\n",
              "      <script>\n",
              "        const buttonEl =\n",
              "          document.querySelector('#df-6e196ca4-9170-4ade-a66a-5ca2c7054004 button.colab-df-convert');\n",
              "        buttonEl.style.display =\n",
              "          google.colab.kernel.accessAllowed ? 'block' : 'none';\n",
              "\n",
              "        async function convertToInteractive(key) {\n",
              "          const element = document.querySelector('#df-6e196ca4-9170-4ade-a66a-5ca2c7054004');\n",
              "          const dataTable =\n",
              "            await google.colab.kernel.invokeFunction('convertToInteractive',\n",
              "                                                     [key], {});\n",
              "          if (!dataTable) return;\n",
              "\n",
              "          const docLinkHtml = 'Like what you see? Visit the ' +\n",
              "            '<a target=\"_blank\" href=https://colab.research.google.com/notebooks/data_table.ipynb>data table notebook</a>'\n",
              "            + ' to learn more about interactive tables.';\n",
              "          element.innerHTML = '';\n",
              "          dataTable['output_type'] = 'display_data';\n",
              "          await google.colab.output.renderOutput(dataTable, element);\n",
              "          const docLink = document.createElement('div');\n",
              "          docLink.innerHTML = docLinkHtml;\n",
              "          element.appendChild(docLink);\n",
              "        }\n",
              "      </script>\n",
              "    </div>\n",
              "  </div>\n",
              "  "
            ]
          },
          "metadata": {},
          "execution_count": 15
        }
      ]
    },
    {
      "cell_type": "markdown",
      "source": [
        "# 4. Procesar los datos"
      ],
      "metadata": {
        "id": "lmSoKb2zWkNg"
      }
    },
    {
      "cell_type": "markdown",
      "source": [
        "## 4.1 EDA: *Exploratory Data Analysis*"
      ],
      "metadata": {
        "id": "dErWzPeFWzyD"
      }
    },
    {
      "cell_type": "code",
      "source": [
        "# Información rápida de los datos\n",
        "dataset.info()"
      ],
      "metadata": {
        "colab": {
          "base_uri": "https://localhost:8080/"
        },
        "id": "wgFd-rqEXZJB",
        "outputId": "8b5f0721-9177-47e9-839b-9919844ce828"
      },
      "execution_count": null,
      "outputs": [
        {
          "output_type": "stream",
          "name": "stdout",
          "text": [
            "<class 'pandas.core.frame.DataFrame'>\n",
            "RangeIndex: 68 entries, 0 to 67\n",
            "Data columns (total 18 columns):\n",
            " #   Column    Non-Null Count  Dtype  \n",
            "---  ------    --------------  -----  \n",
            " 0   DMRAGEYR  68 non-null     int64  \n",
            " 1   DMRGENDR  68 non-null     object \n",
            " 2   DATAD     68 non-null     object \n",
            " 3   DATLGTI   9 non-null      float64\n",
            " 4   DATDS     66 non-null     object \n",
            " 5   DSXOS     66 non-null     object \n",
            " 6   CSXBTPA   68 non-null     float64\n",
            " 7   CSXCHRA   68 non-null     int64  \n",
            " 8   LBXSGLA   68 non-null     int64  \n",
            " 9   CSXOSTA   68 non-null     int64  \n",
            " 10  CSXSYA    68 non-null     int64  \n",
            " 11  CSXDIA    68 non-null     int64  \n",
            " 12  CSXCHRHn  68 non-null     int64  \n",
            " 13  CSXBTPHn  68 non-null     float64\n",
            " 14  LBXSGLHn  68 non-null     int64  \n",
            " 15  CSXOSTHn  68 non-null     int64  \n",
            " 16  CSXSYHn   68 non-null     int64  \n",
            " 17  CSXDIHn   68 non-null     int64  \n",
            "dtypes: float64(3), int64(11), object(4)\n",
            "memory usage: 9.7+ KB\n"
          ]
        }
      ]
    },
    {
      "cell_type": "markdown",
      "source": [
        "**Comentarios**. Tenemos 4 variables categóricas y 13 variables cuantitativas. Todas las variables poseen 68 valores no nulos a excepción de la variable `DATLGTI` que posee tan sólo nueve valores no nulos."
      ],
      "metadata": {
        "id": "Bfnjy2B4XmVA"
      }
    },
    {
      "cell_type": "code",
      "source": [
        "dataset[\"DATLGTI\"]"
      ],
      "metadata": {
        "colab": {
          "base_uri": "https://localhost:8080/"
        },
        "id": "WV_f5GxhVspY",
        "outputId": "74142748-84d5-47ff-e144-8b0707e615c5"
      },
      "execution_count": null,
      "outputs": [
        {
          "output_type": "execute_result",
          "data": {
            "text/plain": [
              "0      NaN\n",
              "1      3.0\n",
              "2      NaN\n",
              "3      NaN\n",
              "4      NaN\n",
              "      ... \n",
              "63     NaN\n",
              "64     NaN\n",
              "65     NaN\n",
              "66    16.0\n",
              "67     0.0\n",
              "Name: DATLGTI, Length: 68, dtype: float64"
            ]
          },
          "metadata": {},
          "execution_count": 18
        }
      ]
    },
    {
      "cell_type": "markdown",
      "source": [
        "**Comentarios**. `\"UCI_DIAS/ICU_DAYS\": \"DATLGTI\"` hace referencia al número de días que un(a) paciente determinado ha estado en la UCI (Unidad de Cuidados Intensivos). La presencia de `NaN` sugiere barajear dos opciones: (1) el paciente no ha ingresado en UCI o (2) ha podido ser un error humano. Podemos partir de la suposición de que no han habido errores humanos y que, efectivamente, los `NaN` equivalen a no haber sido ingresada en la UCI. Se podrían cambiar estos valores directamente por cero."
      ],
      "metadata": {
        "id": "9q-nBAxbV8_H"
      }
    },
    {
      "cell_type": "code",
      "source": [
        "# variables categóricas\n",
        "variables_cat = ['DMRGENDR', 'DSXOS', 'DATAD', 'DATDS']\n",
        "\n",
        "# variables cuantitativas\n",
        "variables_num = ['DMRAGEYR', 'DATLGTI', 'CSXBTPA', 'CSXCHRA', 'LBXSGLA', 'CSXOSTA', 'CSXSYA', 'CSXDIA',\n",
        "                 'CSXCHRHn', 'CSXBTPHn', 'LBXSGLHn', 'CSXOSTHn', 'CSXSYHn', 'CSXDIHn']"
      ],
      "metadata": {
        "id": "WoZ0unHrY3Aj"
      },
      "execution_count": null,
      "outputs": []
    },
    {
      "cell_type": "markdown",
      "source": [
        "### 4.2.1 Variables cuantitativas"
      ],
      "metadata": {
        "id": "NOAfJgx8YkST"
      }
    },
    {
      "cell_type": "code",
      "source": [
        "# Datos estadísticos para las variables cuantitativas\n",
        "dataset.describe()"
      ],
      "metadata": {
        "colab": {
          "base_uri": "https://localhost:8080/",
          "height": 364
        },
        "id": "NVZua3emXNXB",
        "outputId": "687c5406-3aee-48a0-b217-458f89a65b9a"
      },
      "execution_count": null,
      "outputs": [
        {
          "output_type": "execute_result",
          "data": {
            "text/plain": [
              "        DMRAGEYR    DATLGTI    CSXBTPA     CSXCHRA  LBXSGLA    CSXOSTA  \\\n",
              "count  68.000000   9.000000  68.000000   68.000000     68.0  68.000000   \n",
              "mean   64.897059   8.111111  22.919118   55.367647      0.0  55.220588   \n",
              "std    16.130198  12.594090  18.184668   44.079611      0.0  45.514257   \n",
              "min    21.000000   0.000000   0.000000    0.000000      0.0   0.000000   \n",
              "25%    53.750000   0.000000   0.000000    0.000000      0.0   0.000000   \n",
              "50%    69.000000   1.000000  36.400000   76.000000      0.0  85.500000   \n",
              "75%    76.250000  15.000000  36.925000   90.500000      0.0  94.000000   \n",
              "max    96.000000  37.000000  39.800000  118.000000      0.0  99.000000   \n",
              "\n",
              "           CSXSYA     CSXDIA    CSXCHRHn   CSXBTPHn    LBXSGLHn   CSXOSTHn  \\\n",
              "count   68.000000  68.000000   68.000000  68.000000   68.000000  68.000000   \n",
              "mean    62.000000  35.485294   71.764706  29.530882    6.352941  71.367647   \n",
              "std     63.764726  36.919231   37.608001  15.176201   41.547586  38.903595   \n",
              "min      0.000000   0.000000    0.000000   0.000000    0.000000   0.000000   \n",
              "25%      0.000000   0.000000   67.000000  35.875000    0.000000  71.250000   \n",
              "50%     46.500000  22.000000   85.000000  36.799999    0.000000  92.000000   \n",
              "75%    125.000000  69.000000   98.250000  37.599998    0.000000  96.000000   \n",
              "max    160.000000  95.000000  124.000000  39.799999  328.000000  99.000000   \n",
              "\n",
              "          CSXSYHn    CSXDIHn  \n",
              "count   68.000000  68.000000  \n",
              "mean    82.500000  46.955882  \n",
              "std     61.241021  35.198556  \n",
              "min      0.000000   0.000000  \n",
              "25%      0.000000   0.000000  \n",
              "50%    108.500000  61.000000  \n",
              "75%    130.750000  76.250000  \n",
              "max    164.000000  95.000000  "
            ],
            "text/html": [
              "\n",
              "  <div id=\"df-63c451c6-201c-47dc-bcb1-65820dd577b8\">\n",
              "    <div class=\"colab-df-container\">\n",
              "      <div>\n",
              "<style scoped>\n",
              "    .dataframe tbody tr th:only-of-type {\n",
              "        vertical-align: middle;\n",
              "    }\n",
              "\n",
              "    .dataframe tbody tr th {\n",
              "        vertical-align: top;\n",
              "    }\n",
              "\n",
              "    .dataframe thead th {\n",
              "        text-align: right;\n",
              "    }\n",
              "</style>\n",
              "<table border=\"1\" class=\"dataframe\">\n",
              "  <thead>\n",
              "    <tr style=\"text-align: right;\">\n",
              "      <th></th>\n",
              "      <th>DMRAGEYR</th>\n",
              "      <th>DATLGTI</th>\n",
              "      <th>CSXBTPA</th>\n",
              "      <th>CSXCHRA</th>\n",
              "      <th>LBXSGLA</th>\n",
              "      <th>CSXOSTA</th>\n",
              "      <th>CSXSYA</th>\n",
              "      <th>CSXDIA</th>\n",
              "      <th>CSXCHRHn</th>\n",
              "      <th>CSXBTPHn</th>\n",
              "      <th>LBXSGLHn</th>\n",
              "      <th>CSXOSTHn</th>\n",
              "      <th>CSXSYHn</th>\n",
              "      <th>CSXDIHn</th>\n",
              "    </tr>\n",
              "  </thead>\n",
              "  <tbody>\n",
              "    <tr>\n",
              "      <th>count</th>\n",
              "      <td>68.000000</td>\n",
              "      <td>9.000000</td>\n",
              "      <td>68.000000</td>\n",
              "      <td>68.000000</td>\n",
              "      <td>68.0</td>\n",
              "      <td>68.000000</td>\n",
              "      <td>68.000000</td>\n",
              "      <td>68.000000</td>\n",
              "      <td>68.000000</td>\n",
              "      <td>68.000000</td>\n",
              "      <td>68.000000</td>\n",
              "      <td>68.000000</td>\n",
              "      <td>68.000000</td>\n",
              "      <td>68.000000</td>\n",
              "    </tr>\n",
              "    <tr>\n",
              "      <th>mean</th>\n",
              "      <td>64.897059</td>\n",
              "      <td>8.111111</td>\n",
              "      <td>22.919118</td>\n",
              "      <td>55.367647</td>\n",
              "      <td>0.0</td>\n",
              "      <td>55.220588</td>\n",
              "      <td>62.000000</td>\n",
              "      <td>35.485294</td>\n",
              "      <td>71.764706</td>\n",
              "      <td>29.530882</td>\n",
              "      <td>6.352941</td>\n",
              "      <td>71.367647</td>\n",
              "      <td>82.500000</td>\n",
              "      <td>46.955882</td>\n",
              "    </tr>\n",
              "    <tr>\n",
              "      <th>std</th>\n",
              "      <td>16.130198</td>\n",
              "      <td>12.594090</td>\n",
              "      <td>18.184668</td>\n",
              "      <td>44.079611</td>\n",
              "      <td>0.0</td>\n",
              "      <td>45.514257</td>\n",
              "      <td>63.764726</td>\n",
              "      <td>36.919231</td>\n",
              "      <td>37.608001</td>\n",
              "      <td>15.176201</td>\n",
              "      <td>41.547586</td>\n",
              "      <td>38.903595</td>\n",
              "      <td>61.241021</td>\n",
              "      <td>35.198556</td>\n",
              "    </tr>\n",
              "    <tr>\n",
              "      <th>min</th>\n",
              "      <td>21.000000</td>\n",
              "      <td>0.000000</td>\n",
              "      <td>0.000000</td>\n",
              "      <td>0.000000</td>\n",
              "      <td>0.0</td>\n",
              "      <td>0.000000</td>\n",
              "      <td>0.000000</td>\n",
              "      <td>0.000000</td>\n",
              "      <td>0.000000</td>\n",
              "      <td>0.000000</td>\n",
              "      <td>0.000000</td>\n",
              "      <td>0.000000</td>\n",
              "      <td>0.000000</td>\n",
              "      <td>0.000000</td>\n",
              "    </tr>\n",
              "    <tr>\n",
              "      <th>25%</th>\n",
              "      <td>53.750000</td>\n",
              "      <td>0.000000</td>\n",
              "      <td>0.000000</td>\n",
              "      <td>0.000000</td>\n",
              "      <td>0.0</td>\n",
              "      <td>0.000000</td>\n",
              "      <td>0.000000</td>\n",
              "      <td>0.000000</td>\n",
              "      <td>67.000000</td>\n",
              "      <td>35.875000</td>\n",
              "      <td>0.000000</td>\n",
              "      <td>71.250000</td>\n",
              "      <td>0.000000</td>\n",
              "      <td>0.000000</td>\n",
              "    </tr>\n",
              "    <tr>\n",
              "      <th>50%</th>\n",
              "      <td>69.000000</td>\n",
              "      <td>1.000000</td>\n",
              "      <td>36.400000</td>\n",
              "      <td>76.000000</td>\n",
              "      <td>0.0</td>\n",
              "      <td>85.500000</td>\n",
              "      <td>46.500000</td>\n",
              "      <td>22.000000</td>\n",
              "      <td>85.000000</td>\n",
              "      <td>36.799999</td>\n",
              "      <td>0.000000</td>\n",
              "      <td>92.000000</td>\n",
              "      <td>108.500000</td>\n",
              "      <td>61.000000</td>\n",
              "    </tr>\n",
              "    <tr>\n",
              "      <th>75%</th>\n",
              "      <td>76.250000</td>\n",
              "      <td>15.000000</td>\n",
              "      <td>36.925000</td>\n",
              "      <td>90.500000</td>\n",
              "      <td>0.0</td>\n",
              "      <td>94.000000</td>\n",
              "      <td>125.000000</td>\n",
              "      <td>69.000000</td>\n",
              "      <td>98.250000</td>\n",
              "      <td>37.599998</td>\n",
              "      <td>0.000000</td>\n",
              "      <td>96.000000</td>\n",
              "      <td>130.750000</td>\n",
              "      <td>76.250000</td>\n",
              "    </tr>\n",
              "    <tr>\n",
              "      <th>max</th>\n",
              "      <td>96.000000</td>\n",
              "      <td>37.000000</td>\n",
              "      <td>39.800000</td>\n",
              "      <td>118.000000</td>\n",
              "      <td>0.0</td>\n",
              "      <td>99.000000</td>\n",
              "      <td>160.000000</td>\n",
              "      <td>95.000000</td>\n",
              "      <td>124.000000</td>\n",
              "      <td>39.799999</td>\n",
              "      <td>328.000000</td>\n",
              "      <td>99.000000</td>\n",
              "      <td>164.000000</td>\n",
              "      <td>95.000000</td>\n",
              "    </tr>\n",
              "  </tbody>\n",
              "</table>\n",
              "</div>\n",
              "      <button class=\"colab-df-convert\" onclick=\"convertToInteractive('df-63c451c6-201c-47dc-bcb1-65820dd577b8')\"\n",
              "              title=\"Convert this dataframe to an interactive table.\"\n",
              "              style=\"display:none;\">\n",
              "        \n",
              "  <svg xmlns=\"http://www.w3.org/2000/svg\" height=\"24px\"viewBox=\"0 0 24 24\"\n",
              "       width=\"24px\">\n",
              "    <path d=\"M0 0h24v24H0V0z\" fill=\"none\"/>\n",
              "    <path d=\"M18.56 5.44l.94 2.06.94-2.06 2.06-.94-2.06-.94-.94-2.06-.94 2.06-2.06.94zm-11 1L8.5 8.5l.94-2.06 2.06-.94-2.06-.94L8.5 2.5l-.94 2.06-2.06.94zm10 10l.94 2.06.94-2.06 2.06-.94-2.06-.94-.94-2.06-.94 2.06-2.06.94z\"/><path d=\"M17.41 7.96l-1.37-1.37c-.4-.4-.92-.59-1.43-.59-.52 0-1.04.2-1.43.59L10.3 9.45l-7.72 7.72c-.78.78-.78 2.05 0 2.83L4 21.41c.39.39.9.59 1.41.59.51 0 1.02-.2 1.41-.59l7.78-7.78 2.81-2.81c.8-.78.8-2.07 0-2.86zM5.41 20L4 18.59l7.72-7.72 1.47 1.35L5.41 20z\"/>\n",
              "  </svg>\n",
              "      </button>\n",
              "      \n",
              "  <style>\n",
              "    .colab-df-container {\n",
              "      display:flex;\n",
              "      flex-wrap:wrap;\n",
              "      gap: 12px;\n",
              "    }\n",
              "\n",
              "    .colab-df-convert {\n",
              "      background-color: #E8F0FE;\n",
              "      border: none;\n",
              "      border-radius: 50%;\n",
              "      cursor: pointer;\n",
              "      display: none;\n",
              "      fill: #1967D2;\n",
              "      height: 32px;\n",
              "      padding: 0 0 0 0;\n",
              "      width: 32px;\n",
              "    }\n",
              "\n",
              "    .colab-df-convert:hover {\n",
              "      background-color: #E2EBFA;\n",
              "      box-shadow: 0px 1px 2px rgba(60, 64, 67, 0.3), 0px 1px 3px 1px rgba(60, 64, 67, 0.15);\n",
              "      fill: #174EA6;\n",
              "    }\n",
              "\n",
              "    [theme=dark] .colab-df-convert {\n",
              "      background-color: #3B4455;\n",
              "      fill: #D2E3FC;\n",
              "    }\n",
              "\n",
              "    [theme=dark] .colab-df-convert:hover {\n",
              "      background-color: #434B5C;\n",
              "      box-shadow: 0px 1px 3px 1px rgba(0, 0, 0, 0.15);\n",
              "      filter: drop-shadow(0px 1px 2px rgba(0, 0, 0, 0.3));\n",
              "      fill: #FFFFFF;\n",
              "    }\n",
              "  </style>\n",
              "\n",
              "      <script>\n",
              "        const buttonEl =\n",
              "          document.querySelector('#df-63c451c6-201c-47dc-bcb1-65820dd577b8 button.colab-df-convert');\n",
              "        buttonEl.style.display =\n",
              "          google.colab.kernel.accessAllowed ? 'block' : 'none';\n",
              "\n",
              "        async function convertToInteractive(key) {\n",
              "          const element = document.querySelector('#df-63c451c6-201c-47dc-bcb1-65820dd577b8');\n",
              "          const dataTable =\n",
              "            await google.colab.kernel.invokeFunction('convertToInteractive',\n",
              "                                                     [key], {});\n",
              "          if (!dataTable) return;\n",
              "\n",
              "          const docLinkHtml = 'Like what you see? Visit the ' +\n",
              "            '<a target=\"_blank\" href=https://colab.research.google.com/notebooks/data_table.ipynb>data table notebook</a>'\n",
              "            + ' to learn more about interactive tables.';\n",
              "          element.innerHTML = '';\n",
              "          dataTable['output_type'] = 'display_data';\n",
              "          await google.colab.output.renderOutput(dataTable, element);\n",
              "          const docLink = document.createElement('div');\n",
              "          docLink.innerHTML = docLinkHtml;\n",
              "          element.appendChild(docLink);\n",
              "        }\n",
              "      </script>\n",
              "    </div>\n",
              "  </div>\n",
              "  "
            ]
          },
          "metadata": {},
          "execution_count": 19
        }
      ]
    },
    {
      "cell_type": "markdown",
      "source": [
        "**Comentarios**. A partir del análisis estadístico, podemos observar lo siguiente:\n",
        "\n",
        "1. La variable `LBXSGLA`, que hace referencia a los niveles de glucosa en sangre de un paciente cuando entra a admisión, tiene por valores máximo y mínimo el cero, es decir, se trata de una columna que posee todo ceros. Podemos barajar dos opciones: (1) no se han medido los niveles de glucosa a los pacientes de COVID-19 o bien (2) ha habido algún error humano o del sistema.\n",
        "\n",
        "  Para los valores que fueran mayores que el rango máximo, no lo ponemos como nulos porque podría tratarse de una enfermedad, como la hiperglicemia. Así que, decidimos que estos valores tomarán el valor mñaximo permitido (559).\n",
        "\n",
        "  En cuanto a los valores que fueran menores que el rango mínimo, tampoco lo ponemos como nulos, porque podría tratarse de hipoglicemia. Así que, decidimos que estos valores tomarán el valor mínimo permitido (33). Sin embargo, si el valor es negativo, lo tratamos como nulo.\n",
        "\n",
        "2. El valor mínimo de todas las variables, a excepción de `DMRAGEYR` es cero. Por otra parte, los valores máximos divergen, lo que indica que las variables se encuentran en escalas diferentes."
      ],
      "metadata": {
        "id": "qOk6bs6BbWGf"
      }
    },
    {
      "cell_type": "code",
      "source": [
        "# Mostrar características de la variable numérica\n",
        "def numerical(df, variable):\n",
        "  try:\n",
        "    df[variable].plot(kind='kde', title=variable)\n",
        "  except: pass\n",
        "  nan = df[variable].isna().sum()\n",
        "  print(\"Number of NaN values:\", nan)"
      ],
      "metadata": {
        "id": "nO01oPtvcsMN"
      },
      "execution_count": null,
      "outputs": []
    },
    {
      "cell_type": "markdown",
      "source": [
        "**Políticas de diseño en relación a las variables cuantitativas**. Atendiendo a la semántica de cada variable, consideramos las siguientes decisiones a la hora de armonizar los datos:\n",
        "\n",
        "1. Para ciertas variables, los valores que se encuentren fuera del rango de valores descrito en la función `describe()` para la distribución de densidad, se considerarán como valores nulos `NaN`, de tal forma que pueden interpretarse como errores humanos o del sistema.\n",
        "\n",
        "2. Para ciertas variables, los valores que se encuentren fuera del rango de valores descrito en la función `describe()` para la distribución de densidad, se considerarán como valores iguales a cero, de tal forma que pueden interpretarse como ausencia del paciente en una determinada condición, por ejemplo, haber sido ingresado en la UCI.\n",
        "\n",
        "3. Para ciertas variables, los valores iguales a cero que no parecen tener significado o semántica contextuales, es decir, que parecen carecer de sentido a pesar de ser un valor que se encuentra dentro del rango de valores arrojado por la función `describe()`, se sustituirán por valores `NaN` y su interpretación será la misma que la de la política de diseño (1)."
      ],
      "metadata": {
        "id": "VlCAS62ddEQ5"
      }
    },
    {
      "cell_type": "markdown",
      "source": [
        "**Comentarios a las gráficas o distribuciones de densidad**. De las gráficas de las variables cuantitativas podemos apreciar lo siguiente:\n",
        "\n",
        "1. Las variables `DMRAGEYR` y `DATLGTI` tienen distribuciones con una ligera cola, es decir, están algo desplazadas respecto a la mediana. El resto de distribuciones parecen ser bimodales pues se pueden ver que hay dos \"picos\".\n",
        "\n",
        "2. Variables a las que se aplica la política de diseño n.1: `DMRAGEYR`, `CSXBTPA`, `CSXCHRA`, `LBXSGLA`, `CSXSYA` y `CSXDIA`.\n",
        "\n",
        "3. Variables a las que se aplica la política de diseño n.2: `DATLGTI`.\n",
        "\n",
        "4. Variables a las que se aplica la política de diseño n3.: `CSXOSTA`.\n",
        "\n"
      ],
      "metadata": {
        "id": "9d2fUK57ztFE"
      }
    },
    {
      "cell_type": "markdown",
      "source": [
        "### 4.2.2 Variables categóricas o cualitativas"
      ],
      "metadata": {
        "id": "43fJZ8hDYqk5"
      }
    },
    {
      "cell_type": "code",
      "source": [
        "# Información relativa a las variables categóricas\n",
        "for v in variables_cat:\n",
        "  print(\"Variable categórica: \", v)\n",
        "  print(dataset[v].value_counts())\n",
        "  print()"
      ],
      "metadata": {
        "colab": {
          "base_uri": "https://localhost:8080/"
        },
        "id": "iKp53cVxZCe9",
        "outputId": "41ce0709-292e-4e1d-cead-e8eebbfc84ab"
      },
      "execution_count": null,
      "outputs": [
        {
          "output_type": "stream",
          "name": "stdout",
          "text": [
            "Variable categórica:  DMRGENDR\n",
            "MALE      44\n",
            "FEMALE    24\n",
            "Name: DMRGENDR, dtype: int64\n",
            "\n",
            "Variable categórica:  DSXOS\n",
            "Domicilio               48\n",
            "Traslado al Hospital     9\n",
            "Fallecimiento            8\n",
            "Alta Voluntaria          1\n",
            "Name: DSXOS, dtype: int64\n",
            "\n",
            "Variable categórica:  DATAD\n",
            "13/03/2020    21\n",
            "10/03/2020    11\n",
            "09/03/2020    10\n",
            "12/03/2020     9\n",
            "08/03/2020     8\n",
            "18/03/2020     4\n",
            "06/03/2020     3\n",
            "07/03/2020     2\n",
            "Name: DATAD, dtype: int64\n",
            "\n",
            "Variable categórica:  DATDS\n",
            "19/04/2019    8\n",
            "16/04/2019    7\n",
            "21/04/2019    5\n",
            "24/04/2019    5\n",
            "17/04/2019    5\n",
            "13/04/2019    4\n",
            "12/04/2019    4\n",
            "15/04/2019    3\n",
            "14/04/2019    3\n",
            "11/04/2019    3\n",
            "22/04/2019    2\n",
            "20/04/2019    2\n",
            "28/04/2019    2\n",
            "18/04/2019    2\n",
            "25/04/2019    2\n",
            "23/04/2019    2\n",
            "31/04/2019    2\n",
            "05/04/2019    1\n",
            "26/04/2019    1\n",
            "08/04/2019    1\n",
            "27/04/2019    1\n",
            "04/04/2019    1\n",
            "Name: DATDS, dtype: int64\n",
            "\n"
          ]
        }
      ]
    },
    {
      "cell_type": "markdown",
      "source": [
        "**Políticas de diseño en relación a las variables cualitativas**. Atendiendo a la semántica de cada variable, consideramos las siguientes decisiones a la hora de armonizar los datos:\n",
        "\n",
        "1. Para las variables categóricas con dos posibles valores, como `DMRGENDR` (sexo), en donde no tenemos valores nulos y siguiendo la notación del codebook, sus correspondientes valores cuantitativos serán 0 y 1.\n",
        "\n",
        "2. Para las variables categóricas con más de dos valores posibles, en donde no tenemos valores nulos y siguiendo la notación del codebook, sus correspondientes valores cuantitativos se corresponden con números enteros positivos en orden creciente, y considerando como valor inicial el cero.\n",
        "\n",
        "3. En el caso de tener valores fuera del rango posible de valores, se considerarán como valores nulos `NaN` y tomarán el mismo significado que el la política de diseño n.1 de las variables cuantitativas.\n",
        "\n",
        "*Nota*. Casos excepcionales como el de la variable `DATDS` (fecha de alta), en donde las fechas de alta ocurren antes de las fechas de admisión, se asume como un error humano o bien debido al sistema. Esta interpretación depende de las usuarias que gestionan y administran la base de datos, en cooperación con el personal experto del dominio de aplicación."
      ],
      "metadata": {
        "id": "yRPxmE0l1ezo"
      }
    },
    {
      "cell_type": "markdown",
      "source": [
        "## 4.2 Procesar los datos"
      ],
      "metadata": {
        "id": "QbSY0wHnW5Iz"
      }
    },
    {
      "cell_type": "markdown",
      "source": [
        "# 5. Pasar el fichero CSV a MySQL"
      ],
      "metadata": {
        "id": "vuH4Vrl931PN"
      }
    }
  ]
}